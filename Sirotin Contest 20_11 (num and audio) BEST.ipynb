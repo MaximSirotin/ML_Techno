{
 "cells": [
  {
   "cell_type": "code",
   "execution_count": 1,
   "metadata": {
    "ExecuteTime": {
     "end_time": "2019-11-19T11:33:32.698237Z",
     "start_time": "2019-11-19T11:33:31.263247Z"
    },
    "colab": {},
    "colab_type": "code",
    "id": "_1dIZV6vPdWw"
   },
   "outputs": [],
   "source": [
    "import numpy as np\n",
    "import matplotlib.pyplot as plt\n",
    "import pandas as pd\n",
    "import os\n",
    "import PIL\n",
    "import IPython.display as ipd\n",
    "import librosa\n",
    "import librosa.display\n",
    "from sklearn.ensemble import RandomForestClassifier\n",
    "from sklearn.model_selection import train_test_split\n",
    "from sklearn.metrics import accuracy_score\n",
    "from sklearn.feature_selection import SelectKBest\n",
    "from sklearn.feature_selection import chi2, f_classif\n",
    "\n",
    "plt.style.use(\"ggplot\")\n",
    "np.random.seed(42)"
   ]
  },
  {
   "cell_type": "markdown",
   "metadata": {
    "ExecuteTime": {
     "end_time": "2019-11-16T12:43:17.940911Z",
     "start_time": "2019-11-16T12:43:17.935554Z"
    },
    "colab_type": "text",
    "id": "a4AcHO_DPdXd"
   },
   "source": [
    "# Постановка задачи"
   ]
  },
  {
   "cell_type": "markdown",
   "metadata": {
    "colab_type": "text",
    "id": "3CV3B7x6PdXh"
   },
   "source": [
    "Для каждой арабской цифры имеется скан записи на бумаге (`./data/train/image`) и запись произношения на английском языке разными дикторами (`./data/train/voice`)\n",
    "\n",
    "Требуется построить модель для классификации цифр"
   ]
  },
  {
   "cell_type": "code",
   "execution_count": 2,
   "metadata": {
    "ExecuteTime": {
     "end_time": "2019-11-19T11:33:33.273781Z",
     "start_time": "2019-11-19T11:33:33.267492Z"
    },
    "colab": {},
    "colab_type": "code",
    "id": "_sQlLpB5PdXl"
   },
   "outputs": [],
   "source": [
    "IMAGE_TRAIN_PATH = \"./data/train/image\"\n",
    "VOICE_TRAIN_PATH = \"./data/train/voice\"\n",
    "IMAGE_TEST_PATH = \"./data/test/image/\"\n",
    "VOICE_TEST_PATH = \"./data/test/voice/\"\n",
    "\n",
    "def read_image(path):\n",
    "    return PIL.Image.open(path).convert('L')"
   ]
  },
  {
   "cell_type": "code",
   "execution_count": 3,
   "metadata": {
    "ExecuteTime": {
     "end_time": "2019-11-19T11:33:33.313757Z",
     "start_time": "2019-11-19T11:33:33.301653Z"
    },
    "colab": {
     "base_uri": "https://localhost:8080/",
     "height": 70
    },
    "colab_type": "code",
    "id": "uNJCHUhMPdYV",
    "outputId": "7851cee2-a81b-4495-983d-b8b3f49bdfc7"
   },
   "outputs": [
    {
     "name": "stdout",
     "output_type": "stream",
     "text": [
      "['0_0.png', '0_1.png', '0_10.png', '0_100.png', '0_101.png', '0_102.png', '0_103.png', '0_104.png', '0_105.png', '0_106.png']\n",
      "\n",
      "['0_0.wav', '0_1.wav', '0_10.wav', '0_100.wav', '0_101.wav', '0_102.wav', '0_103.wav', '0_104.wav', '0_105.wav', '0_106.wav']\n"
     ]
    }
   ],
   "source": [
    "print(\n",
    "    os.listdir(IMAGE_TRAIN_PATH)[:10],\n",
    "    os.listdir(VOICE_TRAIN_PATH)[:10],\n",
    "    sep='\\n\\n'\n",
    ")"
   ]
  },
  {
   "cell_type": "code",
   "execution_count": 4,
   "metadata": {
    "ExecuteTime": {
     "end_time": "2019-11-19T11:33:33.492114Z",
     "start_time": "2019-11-19T11:33:33.316299Z"
    },
    "colab": {
     "base_uri": "https://localhost:8080/",
     "height": 265
    },
    "colab_type": "code",
    "id": "KR88VvEIPdYe",
    "outputId": "55f4b289-0054-4ba1-d21a-415f075da52f"
   },
   "outputs": [
    {
     "data": {
      "image/png": "[encoded data removed]",
      "text/plain": [
       "<Figure size 432x288 with 1 Axes>"
      ]
     },
     "metadata": {
      "needs_background": "light"
     },
     "output_type": "display_data"
    }
   ],
   "source": [
    "img = read_image(os.path.join(IMAGE_TRAIN_PATH, \"5_3.png\"))\n",
    "plt.imshow(img, cmap='gray')\n",
    "plt.grid(False);"
   ]
  },
  {
   "cell_type": "code",
   "execution_count": 5,
   "metadata": {
    "ExecuteTime": {
     "end_time": "2019-11-19T11:33:33.528835Z",
     "start_time": "2019-11-19T11:33:33.504606Z"
    },
    "colab": {
     "base_uri": "https://localhost:8080/",
     "height": 74
    },
    "colab_type": "code",
    "id": "Q9qEfqojPdYr",
    "outputId": "a319c4b0-b019-4429-b502-686241ab6091"
   },
   "outputs": [
    {
     "data": {
      "text/html": [
       "\n",
       "                <audio controls=\"controls\" >\n",
       "                    <source src=\"data:audio/wav;base64,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\" type=\"audio/wav\" />\n",
       "                    Your browser does not support the audio element.\n",
       "                </audio>\n",
       "              "
      ],
      "text/plain": [
       "<IPython.lib.display.Audio object>"
      ]
     },
     "execution_count": 5,
     "metadata": {},
     "output_type": "execute_result"
    }
   ],
   "source": [
    "ipd.Audio(os.path.join(VOICE_TRAIN_PATH, \"9_100.wav\"))"
   ]
  },
  {
   "cell_type": "markdown",
   "metadata": {},
   "source": [
    "# Обработка только изображений (accuracy до 88)"
   ]
  },
  {
   "cell_type": "code",
   "execution_count": 6,
   "metadata": {},
   "outputs": [],
   "source": [
    "def extract_image_features(image_folder):\n",
    "    image_vectors = []\n",
    "    image_sums = []\n",
    "    image_vectors0 = []\n",
    "    image_vectors1 = []\n",
    "    \n",
    "    indices = []\n",
    "    for image_name in os.listdir(image_folder):\n",
    "        index = os.path.splitext(image_name)[0]\n",
    "        indices.append(index)\n",
    "        image = read_image(os.path.join(image_folder, image_name))\n",
    "        image_vector = np.array(image).reshape(-1)\n",
    "        image_sum = sum(sum(np.array(image)>50))\n",
    "        image_vector0 = np.sum(np.array(img)>50, axis = 0)\n",
    "        image_vector1 = np.sum(np.array(img)>50, axis = 1)\n",
    "        \n",
    "        image_vectors.append(image_vector)\n",
    "        image_sums.append(image_sum)\n",
    "        image_vectors0.append(image_vector0)\n",
    "        image_vectors1.append(image_vector1)\n",
    "    return pd.DataFrame({\n",
    "        'index': indices,\n",
    "        'image_vector': image_vectors,\n",
    "        'image_sum': image_sums,\n",
    "        'image_vector0': image_vectors0,\n",
    "        'image_vector1': image_vectors1,\n",
    "    })\n",
    "\n",
    "image_features = extract_image_features(IMAGE_TRAIN_PATH)"
   ]
  },
  {
   "cell_type": "code",
   "execution_count": 7,
   "metadata": {},
   "outputs": [],
   "source": [
    "dataset = image_features\n",
    "dataset[\"target\"] = dataset[\"index\"].apply(lambda x: int(x[0]))"
   ]
  },
  {
   "cell_type": "code",
   "execution_count": 8,
   "metadata": {},
   "outputs": [
    {
     "data": {
      "text/html": [
       "<div>\n",
       "<style scoped>\n",
       "    .dataframe tbody tr th:only-of-type {\n",
       "        vertical-align: middle;\n",
       "    }\n",
       "\n",
       "    .dataframe tbody tr th {\n",
       "        vertical-align: top;\n",
       "    }\n",
       "\n",
       "    .dataframe thead th {\n",
       "        text-align: right;\n",
       "    }\n",
       "</style>\n",
       "<table border=\"1\" class=\"dataframe\">\n",
       "  <thead>\n",
       "    <tr style=\"text-align: right;\">\n",
       "      <th></th>\n",
       "      <th>index</th>\n",
       "      <th>image_vector</th>\n",
       "      <th>image_sum</th>\n",
       "      <th>image_vector0</th>\n",
       "      <th>image_vector1</th>\n",
       "      <th>target</th>\n",
       "    </tr>\n",
       "  </thead>\n",
       "  <tbody>\n",
       "    <tr>\n",
       "      <th>0</th>\n",
       "      <td>0_0</td>\n",
       "      <td>[0, 0, 0, 0, 0, 0, 0, 0, 0, 0, 0, 0, 0, 0, 0, ...</td>\n",
       "      <td>164</td>\n",
       "      <td>[0, 0, 0, 0, 0, 0, 0, 2, 12, 14, 16, 10, 9, 10...</td>\n",
       "      <td>[0, 0, 0, 0, 5, 10, 11, 9, 3, 3, 3, 6, 12, 13,...</td>\n",
       "      <td>0</td>\n",
       "    </tr>\n",
       "    <tr>\n",
       "      <th>1</th>\n",
       "      <td>0_1</td>\n",
       "      <td>[0, 0, 0, 0, 0, 0, 0, 0, 0, 0, 0, 0, 0, 0, 0, ...</td>\n",
       "      <td>212</td>\n",
       "      <td>[0, 0, 0, 0, 0, 0, 0, 2, 12, 14, 16, 10, 9, 10...</td>\n",
       "      <td>[0, 0, 0, 0, 5, 10, 11, 9, 3, 3, 3, 6, 12, 13,...</td>\n",
       "      <td>0</td>\n",
       "    </tr>\n",
       "    <tr>\n",
       "      <th>2</th>\n",
       "      <td>0_10</td>\n",
       "      <td>[0, 0, 0, 0, 0, 0, 0, 0, 0, 0, 0, 0, 0, 0, 0, ...</td>\n",
       "      <td>181</td>\n",
       "      <td>[0, 0, 0, 0, 0, 0, 0, 2, 12, 14, 16, 10, 9, 10...</td>\n",
       "      <td>[0, 0, 0, 0, 5, 10, 11, 9, 3, 3, 3, 6, 12, 13,...</td>\n",
       "      <td>0</td>\n",
       "    </tr>\n",
       "    <tr>\n",
       "      <th>3</th>\n",
       "      <td>0_100</td>\n",
       "      <td>[0, 0, 0, 0, 0, 0, 0, 0, 0, 0, 0, 0, 0, 0, 0, ...</td>\n",
       "      <td>159</td>\n",
       "      <td>[0, 0, 0, 0, 0, 0, 0, 2, 12, 14, 16, 10, 9, 10...</td>\n",
       "      <td>[0, 0, 0, 0, 5, 10, 11, 9, 3, 3, 3, 6, 12, 13,...</td>\n",
       "      <td>0</td>\n",
       "    </tr>\n",
       "    <tr>\n",
       "      <th>4</th>\n",
       "      <td>0_101</td>\n",
       "      <td>[0, 0, 0, 0, 0, 0, 0, 0, 0, 0, 0, 0, 0, 0, 0, ...</td>\n",
       "      <td>113</td>\n",
       "      <td>[0, 0, 0, 0, 0, 0, 0, 2, 12, 14, 16, 10, 9, 10...</td>\n",
       "      <td>[0, 0, 0, 0, 5, 10, 11, 9, 3, 3, 3, 6, 12, 13,...</td>\n",
       "      <td>0</td>\n",
       "    </tr>\n",
       "  </tbody>\n",
       "</table>\n",
       "</div>"
      ],
      "text/plain": [
       "   index                                       image_vector  image_sum  \\\n",
       "0    0_0  [0, 0, 0, 0, 0, 0, 0, 0, 0, 0, 0, 0, 0, 0, 0, ...        164   \n",
       "1    0_1  [0, 0, 0, 0, 0, 0, 0, 0, 0, 0, 0, 0, 0, 0, 0, ...        212   \n",
       "2   0_10  [0, 0, 0, 0, 0, 0, 0, 0, 0, 0, 0, 0, 0, 0, 0, ...        181   \n",
       "3  0_100  [0, 0, 0, 0, 0, 0, 0, 0, 0, 0, 0, 0, 0, 0, 0, ...        159   \n",
       "4  0_101  [0, 0, 0, 0, 0, 0, 0, 0, 0, 0, 0, 0, 0, 0, 0, ...        113   \n",
       "\n",
       "                                       image_vector0  \\\n",
       "0  [0, 0, 0, 0, 0, 0, 0, 2, 12, 14, 16, 10, 9, 10...   \n",
       "1  [0, 0, 0, 0, 0, 0, 0, 2, 12, 14, 16, 10, 9, 10...   \n",
       "2  [0, 0, 0, 0, 0, 0, 0, 2, 12, 14, 16, 10, 9, 10...   \n",
       "3  [0, 0, 0, 0, 0, 0, 0, 2, 12, 14, 16, 10, 9, 10...   \n",
       "4  [0, 0, 0, 0, 0, 0, 0, 2, 12, 14, 16, 10, 9, 10...   \n",
       "\n",
       "                                       image_vector1  target  \n",
       "0  [0, 0, 0, 0, 5, 10, 11, 9, 3, 3, 3, 6, 12, 13,...       0  \n",
       "1  [0, 0, 0, 0, 5, 10, 11, 9, 3, 3, 3, 6, 12, 13,...       0  \n",
       "2  [0, 0, 0, 0, 5, 10, 11, 9, 3, 3, 3, 6, 12, 13,...       0  \n",
       "3  [0, 0, 0, 0, 5, 10, 11, 9, 3, 3, 3, 6, 12, 13,...       0  \n",
       "4  [0, 0, 0, 0, 5, 10, 11, 9, 3, 3, 3, 6, 12, 13,...       0  "
      ]
     },
     "execution_count": 8,
     "metadata": {},
     "output_type": "execute_result"
    }
   ],
   "source": [
    "dataset.head()"
   ]
  },
  {
   "cell_type": "code",
   "execution_count": 9,
   "metadata": {},
   "outputs": [],
   "source": [
    "train_data, test_data = train_test_split(dataset, test_size = 0.2, random_state =42)"
   ]
  },
  {
   "cell_type": "code",
   "execution_count": 10,
   "metadata": {},
   "outputs": [],
   "source": [
    "im_vec_full = np.vstack(dataset['image_vector'])\n",
    "im_vec0_full = np.vstack(dataset['image_vector0'])\n",
    "im_vec1_full = np.vstack(dataset['image_vector1'])\n",
    "im_sum_full = np.vstack(dataset['image_sum'])\n",
    "y_full = np.vstack(dataset['target'])\n",
    "\n",
    "#im_full = np.concatenate((im_vec_full, im_vec0_full, im_vec1_full, im_sum_full), axis=1)\n",
    "#im_full = np.concatenate((im_vec_full, im_sum_full), axis=1)\n",
    "im_full = im_vec_full"
   ]
  },
  {
   "cell_type": "markdown",
   "metadata": {},
   "source": [
    "Часть пикселей являются шумовыми, их можно убрать с помощью отбора признаков:"
   ]
  },
  {
   "cell_type": "code",
   "execution_count": 11,
   "metadata": {},
   "outputs": [],
   "source": [
    "skb = SelectKBest(chi2, k=700)\n",
    "im_full_best = skb.fit_transform(im_full, y_full) # отбираем на всей выборке\n",
    "im_full_y = np.concatenate((im_full_best, y_full), axis=1)"
   ]
  },
  {
   "cell_type": "code",
   "execution_count": 12,
   "metadata": {},
   "outputs": [],
   "source": [
    "train_data_im, test_data_im = train_test_split(im_full_y, test_size = 0.2, random_state =42)"
   ]
  },
  {
   "cell_type": "code",
   "execution_count": 13,
   "metadata": {},
   "outputs": [],
   "source": [
    "X_train_im = train_data_im[:,:-1]\n",
    "X_test_im = test_data_im[:,:-1]\n",
    "y_train_im = train_data_im[:,-1]\n",
    "y_test_im = test_data_im[:,-1]"
   ]
  },
  {
   "cell_type": "code",
   "execution_count": 14,
   "metadata": {},
   "outputs": [
    {
     "data": {
      "text/plain": [
       "0.8766666666666667"
      ]
     },
     "execution_count": 14,
     "metadata": {},
     "output_type": "execute_result"
    }
   ],
   "source": [
    "clf_im = RandomForestClassifier(n_estimators=100, random_state =42).fit(X_train_im, y_train_im)\n",
    "\n",
    "clf_im.score(X_test_im, y_test_im)"
   ]
  },
  {
   "cell_type": "markdown",
   "metadata": {},
   "source": [
    "# Обработка звука и построение модели только на нем (Accuracy до 98)"
   ]
  },
  {
   "cell_type": "code",
   "execution_count": 15,
   "metadata": {},
   "outputs": [],
   "source": [
    "def load_wav(path):\n",
    "    return librosa.load(path, sr=8000)"
   ]
  },
  {
   "cell_type": "markdown",
   "metadata": {},
   "source": [
    "Поварьируем параметры mfcc (найдем оптимальную дискретизацию по частоте и по времени)"
   ]
  },
  {
   "cell_type": "code",
   "execution_count": 53,
   "metadata": {},
   "outputs": [],
   "source": [
    "def extract_voice_features(voice_folder, numcep=30, hop_length=128):\n",
    "    voice_vectors = []\n",
    "    #voice_lens = []\n",
    "    #voice_vectors_1 = []\n",
    "    #voice_vectors_2 = []\n",
    "    \n",
    "    indices = []\n",
    "    for record_name in os.listdir(voice_folder):\n",
    "        index = os.path.splitext(record_name)[0]\n",
    "        indices.append(index)\n",
    "        signal, sr = load_wav(\n",
    "            os.path.join(voice_folder, record_name)\n",
    "        )\n",
    "        mfcc_features = librosa.feature.mfcc(\n",
    "            signal, sr=sr, n_mfcc=numcep, hop_length=hop_length\n",
    "        )\n",
    "        \n",
    "        voice_vector = mfcc_features.mean(axis=1)\n",
    "        #voice_len = len(signal)\n",
    "        #voice_vector_1 = mfcc_features.mean(axis=0)\n",
    "        #voice_vector_2 = mfcc_features[:5].reshape(-1)\n",
    "        \n",
    "        voice_vectors.append(voice_vector)\n",
    "        #voice_lens.append(voice_len)\n",
    "        #voice_vectors_1.append(voice_vector_1)\n",
    "        #voice_vectors_2.append(voice_vector_2)\n",
    "        \n",
    "    return pd.DataFrame({\n",
    "        'index': indices,\n",
    "        'voice_vector': voice_vectors,\n",
    "        #'voice_len': voice_lens,\n",
    "        #'voice_vector_1': voice_vectors_1,\n",
    "        #'voice_vector_2': voice_vectors_2,\n",
    "    })\n",
    "\n",
    "voice_features = extract_voice_features(VOICE_TRAIN_PATH)"
   ]
  },
  {
   "cell_type": "markdown",
   "metadata": {},
   "source": [
    "Такие признаки, как длина звуковой записи и усреднения mfcc по другим осям оказались незначимыми и шумовыми, а потому далее не использовались."
   ]
  },
  {
   "cell_type": "code",
   "execution_count": 54,
   "metadata": {},
   "outputs": [],
   "source": [
    "dataset = image_features.merge(voice_features, on='index')\n",
    "dataset[\"target\"] = dataset[\"index\"].apply(lambda x: int(x[0]))"
   ]
  },
  {
   "cell_type": "code",
   "execution_count": 55,
   "metadata": {},
   "outputs": [
    {
     "data": {
      "text/html": [
       "<div>\n",
       "<style scoped>\n",
       "    .dataframe tbody tr th:only-of-type {\n",
       "        vertical-align: middle;\n",
       "    }\n",
       "\n",
       "    .dataframe tbody tr th {\n",
       "        vertical-align: top;\n",
       "    }\n",
       "\n",
       "    .dataframe thead th {\n",
       "        text-align: right;\n",
       "    }\n",
       "</style>\n",
       "<table border=\"1\" class=\"dataframe\">\n",
       "  <thead>\n",
       "    <tr style=\"text-align: right;\">\n",
       "      <th></th>\n",
       "      <th>index</th>\n",
       "      <th>image_vector</th>\n",
       "      <th>image_sum</th>\n",
       "      <th>image_vector0</th>\n",
       "      <th>image_vector1</th>\n",
       "      <th>target</th>\n",
       "      <th>voice_vector</th>\n",
       "    </tr>\n",
       "  </thead>\n",
       "  <tbody>\n",
       "    <tr>\n",
       "      <th>0</th>\n",
       "      <td>0_0</td>\n",
       "      <td>[0, 0, 0, 0, 0, 0, 0, 0, 0, 0, 0, 0, 0, 0, 0, ...</td>\n",
       "      <td>164</td>\n",
       "      <td>[0, 0, 0, 0, 0, 0, 0, 2, 12, 14, 16, 10, 9, 10...</td>\n",
       "      <td>[0, 0, 0, 0, 5, 10, 11, 9, 3, 3, 3, 6, 12, 13,...</td>\n",
       "      <td>0</td>\n",
       "      <td>[-205.1602006536334, 57.91946870245389, 17.032...</td>\n",
       "    </tr>\n",
       "    <tr>\n",
       "      <th>1</th>\n",
       "      <td>0_1</td>\n",
       "      <td>[0, 0, 0, 0, 0, 0, 0, 0, 0, 0, 0, 0, 0, 0, 0, ...</td>\n",
       "      <td>212</td>\n",
       "      <td>[0, 0, 0, 0, 0, 0, 0, 2, 12, 14, 16, 10, 9, 10...</td>\n",
       "      <td>[0, 0, 0, 0, 5, 10, 11, 9, 3, 3, 3, 6, 12, 13,...</td>\n",
       "      <td>0</td>\n",
       "      <td>[-219.5731069472757, 57.14378737901534, 35.514...</td>\n",
       "    </tr>\n",
       "    <tr>\n",
       "      <th>2</th>\n",
       "      <td>0_10</td>\n",
       "      <td>[0, 0, 0, 0, 0, 0, 0, 0, 0, 0, 0, 0, 0, 0, 0, ...</td>\n",
       "      <td>181</td>\n",
       "      <td>[0, 0, 0, 0, 0, 0, 0, 2, 12, 14, 16, 10, 9, 10...</td>\n",
       "      <td>[0, 0, 0, 0, 5, 10, 11, 9, 3, 3, 3, 6, 12, 13,...</td>\n",
       "      <td>0</td>\n",
       "      <td>[-400.2382889517981, 54.75083542180288, 0.2431...</td>\n",
       "    </tr>\n",
       "    <tr>\n",
       "      <th>3</th>\n",
       "      <td>0_100</td>\n",
       "      <td>[0, 0, 0, 0, 0, 0, 0, 0, 0, 0, 0, 0, 0, 0, 0, ...</td>\n",
       "      <td>159</td>\n",
       "      <td>[0, 0, 0, 0, 0, 0, 0, 2, 12, 14, 16, 10, 9, 10...</td>\n",
       "      <td>[0, 0, 0, 0, 5, 10, 11, 9, 3, 3, 3, 6, 12, 13,...</td>\n",
       "      <td>0</td>\n",
       "      <td>[-155.38641365827087, 96.3085790544437, -27.68...</td>\n",
       "    </tr>\n",
       "    <tr>\n",
       "      <th>4</th>\n",
       "      <td>0_101</td>\n",
       "      <td>[0, 0, 0, 0, 0, 0, 0, 0, 0, 0, 0, 0, 0, 0, 0, ...</td>\n",
       "      <td>113</td>\n",
       "      <td>[0, 0, 0, 0, 0, 0, 0, 2, 12, 14, 16, 10, 9, 10...</td>\n",
       "      <td>[0, 0, 0, 0, 5, 10, 11, 9, 3, 3, 3, 6, 12, 13,...</td>\n",
       "      <td>0</td>\n",
       "      <td>[-329.39376759768044, 52.10905549293906, -14.5...</td>\n",
       "    </tr>\n",
       "  </tbody>\n",
       "</table>\n",
       "</div>"
      ],
      "text/plain": [
       "   index                                       image_vector  image_sum  \\\n",
       "0    0_0  [0, 0, 0, 0, 0, 0, 0, 0, 0, 0, 0, 0, 0, 0, 0, ...        164   \n",
       "1    0_1  [0, 0, 0, 0, 0, 0, 0, 0, 0, 0, 0, 0, 0, 0, 0, ...        212   \n",
       "2   0_10  [0, 0, 0, 0, 0, 0, 0, 0, 0, 0, 0, 0, 0, 0, 0, ...        181   \n",
       "3  0_100  [0, 0, 0, 0, 0, 0, 0, 0, 0, 0, 0, 0, 0, 0, 0, ...        159   \n",
       "4  0_101  [0, 0, 0, 0, 0, 0, 0, 0, 0, 0, 0, 0, 0, 0, 0, ...        113   \n",
       "\n",
       "                                       image_vector0  \\\n",
       "0  [0, 0, 0, 0, 0, 0, 0, 2, 12, 14, 16, 10, 9, 10...   \n",
       "1  [0, 0, 0, 0, 0, 0, 0, 2, 12, 14, 16, 10, 9, 10...   \n",
       "2  [0, 0, 0, 0, 0, 0, 0, 2, 12, 14, 16, 10, 9, 10...   \n",
       "3  [0, 0, 0, 0, 0, 0, 0, 2, 12, 14, 16, 10, 9, 10...   \n",
       "4  [0, 0, 0, 0, 0, 0, 0, 2, 12, 14, 16, 10, 9, 10...   \n",
       "\n",
       "                                       image_vector1  target  \\\n",
       "0  [0, 0, 0, 0, 5, 10, 11, 9, 3, 3, 3, 6, 12, 13,...       0   \n",
       "1  [0, 0, 0, 0, 5, 10, 11, 9, 3, 3, 3, 6, 12, 13,...       0   \n",
       "2  [0, 0, 0, 0, 5, 10, 11, 9, 3, 3, 3, 6, 12, 13,...       0   \n",
       "3  [0, 0, 0, 0, 5, 10, 11, 9, 3, 3, 3, 6, 12, 13,...       0   \n",
       "4  [0, 0, 0, 0, 5, 10, 11, 9, 3, 3, 3, 6, 12, 13,...       0   \n",
       "\n",
       "                                        voice_vector  \n",
       "0  [-205.1602006536334, 57.91946870245389, 17.032...  \n",
       "1  [-219.5731069472757, 57.14378737901534, 35.514...  \n",
       "2  [-400.2382889517981, 54.75083542180288, 0.2431...  \n",
       "3  [-155.38641365827087, 96.3085790544437, -27.68...  \n",
       "4  [-329.39376759768044, 52.10905549293906, -14.5...  "
      ]
     },
     "execution_count": 55,
     "metadata": {},
     "output_type": "execute_result"
    }
   ],
   "source": [
    "dataset.head()"
   ]
  },
  {
   "cell_type": "code",
   "execution_count": 56,
   "metadata": {
    "colab": {},
    "colab_type": "code",
    "hidden": true,
    "id": "KpqF5x22Pdh9"
   },
   "outputs": [],
   "source": [
    "train_data, test_data = train_test_split(dataset, test_size = 0.2, random_state =42)"
   ]
  },
  {
   "cell_type": "code",
   "execution_count": 57,
   "metadata": {},
   "outputs": [],
   "source": [
    "X_train = np.vstack(train_data['voice_vector'])\n",
    "X_test = np.vstack(test_data['voice_vector'])\n",
    "y_train = train_data['target']\n",
    "y_test = test_data['target']"
   ]
  },
  {
   "cell_type": "code",
   "execution_count": 58,
   "metadata": {
    "colab": {
     "base_uri": "https://localhost:8080/",
     "height": 34
    },
    "colab_type": "code",
    "id": "X8tcAR4cnAOF",
    "outputId": "473137df-ad46-4370-c8af-c98ebb83c971"
   },
   "outputs": [
    {
     "data": {
      "text/plain": [
       "0.97"
      ]
     },
     "execution_count": 58,
     "metadata": {},
     "output_type": "execute_result"
    }
   ],
   "source": [
    "clf_aud = RandomForestClassifier(n_estimators=500, random_state =42).fit(X_train, y_train)\n",
    "\n",
    "clf_aud.score(X_test, y_test)"
   ]
  },
  {
   "cell_type": "markdown",
   "metadata": {},
   "source": [
    "# Соединение признаков по звуку и по изображениям (Accuracy до 93)"
   ]
  },
  {
   "cell_type": "code",
   "execution_count": 22,
   "metadata": {},
   "outputs": [],
   "source": [
    "X_train_all = np.concatenate((X_train_im, X_train), axis=1)\n",
    "X_test_all = np.concatenate((X_test_im, X_test), axis=1)"
   ]
  },
  {
   "cell_type": "code",
   "execution_count": 23,
   "metadata": {},
   "outputs": [
    {
     "data": {
      "text/plain": [
       "0.9233333333333333"
      ]
     },
     "execution_count": 23,
     "metadata": {},
     "output_type": "execute_result"
    }
   ],
   "source": [
    "clf_all = RandomForestClassifier(n_estimators=100, random_state =42).fit(X_train_all, y_train)\n",
    "\n",
    "clf_all.score(X_test_all, y_test)"
   ]
  },
  {
   "cell_type": "markdown",
   "metadata": {},
   "source": [
    "### Отберем признаки"
   ]
  },
  {
   "cell_type": "code",
   "execution_count": 24,
   "metadata": {},
   "outputs": [
    {
     "data": {
      "text/plain": [
       "(1200,)"
      ]
     },
     "execution_count": 24,
     "metadata": {},
     "output_type": "execute_result"
    }
   ],
   "source": [
    "y_train.shape"
   ]
  },
  {
   "cell_type": "code",
   "execution_count": 25,
   "metadata": {},
   "outputs": [
    {
     "name": "stderr",
     "output_type": "stream",
     "text": [
      "C:\\ProgramData\\Anaconda3\\lib\\site-packages\\sklearn\\feature_selection\\univariate_selection.py:114: UserWarning: Features [  0  33 363 364 365 391 392 393 419 420 421 447 448 449 475 476 477 503\n",
      " 504 505 531 532 533 559 560 561 562 586 587 588 589 590 613 614 615 616\n",
      " 617 618 619 620 640 641 642 643 644 645 646 647 648 665 666 667 668 669\n",
      " 670 671 672 673 674 675 676 677 678 679 692 693 694 695 696 697 698 699] are constant.\n",
      "  UserWarning)\n",
      "C:\\ProgramData\\Anaconda3\\lib\\site-packages\\sklearn\\feature_selection\\univariate_selection.py:115: RuntimeWarning: invalid value encountered in true_divide\n",
      "  f = msb / msw\n"
     ]
    }
   ],
   "source": [
    "skb2 = SelectKBest(f_classif, k=100)\n",
    "X_train_all_sel = skb2.fit_transform(X_train_all, y_train)\n",
    "X_test_all_sel = skb2.transform(X_test_all)"
   ]
  },
  {
   "cell_type": "code",
   "execution_count": 52,
   "metadata": {},
   "outputs": [
    {
     "data": {
      "text/plain": [
       "0.9366666666666666"
      ]
     },
     "execution_count": 52,
     "metadata": {},
     "output_type": "execute_result"
    }
   ],
   "source": [
    "clf_all = RandomForestClassifier(n_estimators=500, random_state =42).fit(X_train_all_sel, y_train)\n",
    "\n",
    "clf_all.score(X_test_all_sel, y_test)"
   ]
  },
  {
   "cell_type": "code",
   "execution_count": 27,
   "metadata": {},
   "outputs": [],
   "source": [
    "y = clf_all.predict(X_test_all_sel)"
   ]
  },
  {
   "cell_type": "code",
   "execution_count": 28,
   "metadata": {},
   "outputs": [
    {
     "data": {
      "text/plain": [
       "0.9333333333333333"
      ]
     },
     "execution_count": 28,
     "metadata": {},
     "output_type": "execute_result"
    }
   ],
   "source": [
    "accuracy_score(y, y_test)"
   ]
  },
  {
   "cell_type": "markdown",
   "metadata": {},
   "source": [
    "# Сабмитим лучшее"
   ]
  },
  {
   "cell_type": "code",
   "execution_count": 59,
   "metadata": {},
   "outputs": [],
   "source": [
    "submit_image_features = extract_image_features(IMAGE_TEST_PATH)\n",
    "submit_voice_features = extract_voice_features(VOICE_TEST_PATH)\n",
    "submit_dataset = submit_image_features.merge(\n",
    "    submit_voice_features, \n",
    "    on=\"index\"\n",
    ")\n",
    "submit_dataset[\"index\"] = submit_dataset[\"index\"].apply(int)"
   ]
  },
  {
   "cell_type": "code",
   "execution_count": 60,
   "metadata": {},
   "outputs": [
    {
     "data": {
      "text/html": [
       "<div>\n",
       "<style scoped>\n",
       "    .dataframe tbody tr th:only-of-type {\n",
       "        vertical-align: middle;\n",
       "    }\n",
       "\n",
       "    .dataframe tbody tr th {\n",
       "        vertical-align: top;\n",
       "    }\n",
       "\n",
       "    .dataframe thead th {\n",
       "        text-align: right;\n",
       "    }\n",
       "</style>\n",
       "<table border=\"1\" class=\"dataframe\">\n",
       "  <thead>\n",
       "    <tr style=\"text-align: right;\">\n",
       "      <th></th>\n",
       "      <th>index</th>\n",
       "      <th>image_vector</th>\n",
       "      <th>image_sum</th>\n",
       "      <th>image_vector0</th>\n",
       "      <th>image_vector1</th>\n",
       "      <th>voice_vector</th>\n",
       "    </tr>\n",
       "  </thead>\n",
       "  <tbody>\n",
       "    <tr>\n",
       "      <th>0</th>\n",
       "      <td>0</td>\n",
       "      <td>[0, 0, 0, 0, 0, 0, 0, 0, 0, 0, 0, 0, 0, 0, 0, ...</td>\n",
       "      <td>129</td>\n",
       "      <td>[0, 0, 0, 0, 0, 0, 0, 2, 12, 14, 16, 10, 9, 10...</td>\n",
       "      <td>[0, 0, 0, 0, 5, 10, 11, 9, 3, 3, 3, 6, 12, 13,...</td>\n",
       "      <td>[-320.1903508546853, 94.24897891860319, -19.91...</td>\n",
       "    </tr>\n",
       "    <tr>\n",
       "      <th>1</th>\n",
       "      <td>1</td>\n",
       "      <td>[0, 0, 0, 0, 0, 0, 0, 0, 0, 0, 0, 0, 0, 0, 0, ...</td>\n",
       "      <td>93</td>\n",
       "      <td>[0, 0, 0, 0, 0, 0, 0, 2, 12, 14, 16, 10, 9, 10...</td>\n",
       "      <td>[0, 0, 0, 0, 5, 10, 11, 9, 3, 3, 3, 6, 12, 13,...</td>\n",
       "      <td>[-376.668805567462, 21.5996558648449, 27.44155...</td>\n",
       "    </tr>\n",
       "    <tr>\n",
       "      <th>2</th>\n",
       "      <td>10</td>\n",
       "      <td>[0, 0, 0, 0, 0, 0, 0, 0, 0, 0, 0, 0, 0, 0, 0, ...</td>\n",
       "      <td>91</td>\n",
       "      <td>[0, 0, 0, 0, 0, 0, 0, 2, 12, 14, 16, 10, 9, 10...</td>\n",
       "      <td>[0, 0, 0, 0, 5, 10, 11, 9, 3, 3, 3, 6, 12, 13,...</td>\n",
       "      <td>[-172.64210373703355, 101.42178038958502, -19....</td>\n",
       "    </tr>\n",
       "    <tr>\n",
       "      <th>3</th>\n",
       "      <td>100</td>\n",
       "      <td>[0, 0, 0, 0, 0, 0, 0, 0, 0, 0, 0, 0, 0, 0, 0, ...</td>\n",
       "      <td>64</td>\n",
       "      <td>[0, 0, 0, 0, 0, 0, 0, 2, 12, 14, 16, 10, 9, 10...</td>\n",
       "      <td>[0, 0, 0, 0, 5, 10, 11, 9, 3, 3, 3, 6, 12, 13,...</td>\n",
       "      <td>[-201.2217792904793, 83.40920742533592, 9.9861...</td>\n",
       "    </tr>\n",
       "    <tr>\n",
       "      <th>4</th>\n",
       "      <td>101</td>\n",
       "      <td>[0, 0, 0, 0, 0, 0, 0, 0, 0, 0, 0, 0, 0, 0, 0, ...</td>\n",
       "      <td>144</td>\n",
       "      <td>[0, 0, 0, 0, 0, 0, 0, 2, 12, 14, 16, 10, 9, 10...</td>\n",
       "      <td>[0, 0, 0, 0, 5, 10, 11, 9, 3, 3, 3, 6, 12, 13,...</td>\n",
       "      <td>[-211.92151790556366, 53.82608395397458, 43.29...</td>\n",
       "    </tr>\n",
       "  </tbody>\n",
       "</table>\n",
       "</div>"
      ],
      "text/plain": [
       "   index                                       image_vector  image_sum  \\\n",
       "0      0  [0, 0, 0, 0, 0, 0, 0, 0, 0, 0, 0, 0, 0, 0, 0, ...        129   \n",
       "1      1  [0, 0, 0, 0, 0, 0, 0, 0, 0, 0, 0, 0, 0, 0, 0, ...         93   \n",
       "2     10  [0, 0, 0, 0, 0, 0, 0, 0, 0, 0, 0, 0, 0, 0, 0, ...         91   \n",
       "3    100  [0, 0, 0, 0, 0, 0, 0, 0, 0, 0, 0, 0, 0, 0, 0, ...         64   \n",
       "4    101  [0, 0, 0, 0, 0, 0, 0, 0, 0, 0, 0, 0, 0, 0, 0, ...        144   \n",
       "\n",
       "                                       image_vector0  \\\n",
       "0  [0, 0, 0, 0, 0, 0, 0, 2, 12, 14, 16, 10, 9, 10...   \n",
       "1  [0, 0, 0, 0, 0, 0, 0, 2, 12, 14, 16, 10, 9, 10...   \n",
       "2  [0, 0, 0, 0, 0, 0, 0, 2, 12, 14, 16, 10, 9, 10...   \n",
       "3  [0, 0, 0, 0, 0, 0, 0, 2, 12, 14, 16, 10, 9, 10...   \n",
       "4  [0, 0, 0, 0, 0, 0, 0, 2, 12, 14, 16, 10, 9, 10...   \n",
       "\n",
       "                                       image_vector1  \\\n",
       "0  [0, 0, 0, 0, 5, 10, 11, 9, 3, 3, 3, 6, 12, 13,...   \n",
       "1  [0, 0, 0, 0, 5, 10, 11, 9, 3, 3, 3, 6, 12, 13,...   \n",
       "2  [0, 0, 0, 0, 5, 10, 11, 9, 3, 3, 3, 6, 12, 13,...   \n",
       "3  [0, 0, 0, 0, 5, 10, 11, 9, 3, 3, 3, 6, 12, 13,...   \n",
       "4  [0, 0, 0, 0, 5, 10, 11, 9, 3, 3, 3, 6, 12, 13,...   \n",
       "\n",
       "                                        voice_vector  \n",
       "0  [-320.1903508546853, 94.24897891860319, -19.91...  \n",
       "1  [-376.668805567462, 21.5996558648449, 27.44155...  \n",
       "2  [-172.64210373703355, 101.42178038958502, -19....  \n",
       "3  [-201.2217792904793, 83.40920742533592, 9.9861...  \n",
       "4  [-211.92151790556366, 53.82608395397458, 43.29...  "
      ]
     },
     "execution_count": 60,
     "metadata": {},
     "output_type": "execute_result"
    }
   ],
   "source": [
    "submit_dataset.head()"
   ]
  },
  {
   "cell_type": "code",
   "execution_count": 61,
   "metadata": {},
   "outputs": [],
   "source": [
    "submit_dataset[\"target\"] = clf_aud.predict(np.vstack(submit_dataset['voice_vector']))"
   ]
  },
  {
   "cell_type": "code",
   "execution_count": 62,
   "metadata": {},
   "outputs": [],
   "source": [
    "submit_dataset[[\"index\", \"target\"]] \\\n",
    "    .sort_values(\"index\") \\\n",
    "    .to_csv(\"4th_submission.csv\", index=False)"
   ]
  },
  {
   "cell_type": "code",
   "execution_count": null,
   "metadata": {},
   "outputs": [],
   "source": []
  }
 ],
 "metadata": {
  "colab": {
   "name": "ML_seminar.ipynb",
   "provenance": []
  },
  "kernelspec": {
   "display_name": "Python 3",
   "language": "python",
   "name": "python3"
  },
  "language_info": {
   "codemirror_mode": {
    "name": "ipython",
    "version": 3
   },
   "file_extension": ".py",
   "mimetype": "text/x-python",
   "name": "python",
   "nbconvert_exporter": "python",
   "pygments_lexer": "ipython3",
   "version": "3.7.1"
  },
  "toc": {
   "base_numbering": "0",
   "nav_menu": {
    "height": "346px",
    "width": "417px"
   },
   "number_sections": true,
   "sideBar": true,
   "skip_h1_title": false,
   "title_cell": "Table of Contents",
   "title_sidebar": "Contents",
   "toc_cell": true,
   "toc_position": {
    "height": "386px",
    "left": "261px",
    "top": "133px",
    "width": "256px"
   },
   "toc_section_display": true,
   "toc_window_display": true
  }
 },
 "nbformat": 4,
 "nbformat_minor": 1
}
